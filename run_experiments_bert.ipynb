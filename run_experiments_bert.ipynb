{
 "cells": [
  {
   "cell_type": "markdown",
   "metadata": {},
   "source": [
    "# BERT "
   ]
  },
  {
   "cell_type": "code",
   "execution_count": null,
   "metadata": {},
   "outputs": [],
   "source": [
    "!python .\\examples\\run_glue.py --overwrite_output_dir --model_type bert --model_name_or_path bert-base-cased --task_name CoLA --do_train --do_eval --do_lower_case --data_dir ./../glue_data/CoLA  --max_seq_length 128 --per_gpu_train_batch_size 16 --learning_rate 2e-5  --num_train_epochs 15 --output_dir ./../bert_cola/ --save_steps 0 --evaluate_during_training"
   ]
  },
  {
   "cell_type": "code",
   "execution_count": null,
   "metadata": {},
   "outputs": [],
   "source": [
    "!python .\\examples\\run_glue.py --overwrite_output_dir --model_type bert --model_name_or_path bert-base-cased --task_name SST-2 --do_train --do_eval --do_lower_case --data_dir ./../glue_data/SST-2  --max_seq_length 128 --per_gpu_train_batch_size 16 --learning_rate 2e-5  --num_train_epochs 15 --output_dir ./../bert_sst2/ --save_steps 0 --evaluate_during_training"
   ]
  },
  {
   "cell_type": "code",
   "execution_count": null,
   "metadata": {},
   "outputs": [],
   "source": [
    "!python .\\examples\\run_glue.py --overwrite_output_dir --model_type bert --model_name_or_path bert-base-cased --task_name MRPC --do_train --do_eval --do_lower_case --data_dir ./../glue_data/MRPC  --max_seq_length 128 --per_gpu_train_batch_size 16 --learning_rate 2e-5  --num_train_epochs 15 --output_dir ./../bert_mrpc/ --save_steps 0 --evaluate_during_training"
   ]
  },
  {
   "cell_type": "code",
   "execution_count": null,
   "metadata": {},
   "outputs": [],
   "source": [
    "!python .\\examples\\run_glue.py --overwrite_output_dir --model_type bert --model_name_or_path bert-base-cased --task_name QNLI --do_train --do_eval --do_lower_case --data_dir ./../glue_data/QNLI  --max_seq_length 128 --per_gpu_train_batch_size 16 --learning_rate 2e-5  --num_train_epochs 15 --output_dir ./../bert_qnli/ --save_steps 0 --evaluate_during_training"
   ]
  },
  {
   "cell_type": "code",
   "execution_count": null,
   "metadata": {},
   "outputs": [],
   "source": [
    "!python .\\examples\\run_glue.py --overwrite_output_dir --model_type bert --model_name_or_path bert-base-cased --task_name QQP --do_train --do_eval --do_lower_case --data_dir ./../glue_data/QQP  --max_seq_length 128 --per_gpu_train_batch_size 16 --learning_rate 2e-5  --num_train_epochs 15 --output_dir ./../bert_qqp/ --save_steps 0 --evaluate_during_training\n"
   ]
  },
  {
   "cell_type": "code",
   "execution_count": null,
   "metadata": {},
   "outputs": [],
   "source": [
    "!python .\\examples\\run_glue.py --overwrite_output_dir --model_type bert --model_name_or_path bert-base-cased --task_name RTE --do_train --do_eval --do_lower_case --data_dir ./../glue_data/RTE  --max_seq_length 128 --per_gpu_train_batch_size 16 --learning_rate 2e-5  --num_train_epochs 15 --output_dir ./../bert_rte/ --save_steps 0 --evaluate_during_training"
   ]
  },
  {
   "cell_type": "code",
   "execution_count": null,
   "metadata": {},
   "outputs": [],
   "source": [
    "!python .\\examples\\run_glue.py --overwrite_output_dir --model_type bert --model_name_or_path bert-base-cased --task_name WNLI --do_train --do_eval --do_lower_case --data_dir ./../glue_data/WNLI  --max_seq_length 128 --per_gpu_train_batch_size 16 --learning_rate 2e-5  --num_train_epochs 15 --output_dir ./../bert_wnli/ --save_steps 0 --evaluate_during_training"
   ]
  },
  {
   "cell_type": "code",
   "execution_count": null,
   "metadata": {},
   "outputs": [],
   "source": [
    "!python .\\examples\\run_glue.py --overwrite_output_dir --model_type bert --model_name_or_path bert-base-cased --task_name MNLI --do_train --do_eval --do_lower_case --data_dir ./../glue_data/MNLI  --max_seq_length 128 --per_gpu_train_batch_size 16 --learning_rate 2e-5  --num_train_epochs 15 --output_dir ./../bert_mnli/ --save_steps 0 --evaluate_during_training"
   ]
  },
  {
   "cell_type": "code",
   "execution_count": null,
   "metadata": {},
   "outputs": [],
   "source": []
  }
 ],
 "metadata": {
  "interpreter": {
   "hash": "4224a284912126f805ae0ee160b4a432bf2336f134b0772df0c6ad7ad36981c3"
  },
  "kernelspec": {
   "display_name": "Python 3.8.12 64-bit ('pytorch-gpu': conda)",
   "language": "python",
   "name": "python3"
  },
  "language_info": {
   "codemirror_mode": {
    "name": "ipython",
    "version": 3
   },
   "file_extension": ".py",
   "mimetype": "text/x-python",
   "name": "python",
   "nbconvert_exporter": "python",
   "pygments_lexer": "ipython3",
   "version": "3.8.12"
  },
  "orig_nbformat": 4
 },
 "nbformat": 4,
 "nbformat_minor": 2
}
